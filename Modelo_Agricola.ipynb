{
  "nbformat": 4,
  "nbformat_minor": 0,
  "metadata": {
    "colab": {
      "name": "Modelo Agricola.ipynb",
      "provenance": [],
      "authorship_tag": "ABX9TyPmnAIavzzLbAremycrDly3",
      "include_colab_link": true
    },
    "kernelspec": {
      "name": "python3",
      "display_name": "Python 3"
    },
    "language_info": {
      "name": "python"
    }
  },
  "cells": [
    {
      "cell_type": "markdown",
      "metadata": {
        "id": "view-in-github",
        "colab_type": "text"
      },
      "source": [
        "<a href=\"https://colab.research.google.com/github/oscarjose9423/LoginBackendToHeroku/blob/main/Modelo_Agricola.ipynb\" target=\"_parent\"><img src=\"https://colab.research.google.com/assets/colab-badge.svg\" alt=\"Open In Colab\"/></a>"
      ]
    },
    {
      "cell_type": "markdown",
      "metadata": {
        "id": "jqaxYsABGdbB"
      },
      "source": [
        "\n",
        "<h1> Modelado  </h1>\n",
        "\n",
        "Este documento hace parte de la presentación de los modelos empleados para el desarrollo del proyecto de innovación agrícola y pecuaria. Se plantea la metodología empleada por mi para el desarrollo de los diferentes no solo para especies pecuarias como aves de corral, cerdos y ovejos si no también agricolas representativas de la región de ejecución del proyecto."
      ]
    },
    {
      "cell_type": "markdown",
      "metadata": {
        "id": "4j7hwO-MGit0"
      },
      "source": [
        "<p><a name=\"contents\"></a></p>\n",
        "\n",
        "# Contenido \n",
        "\n",
        "- <a href=\"#colabIntro\">1. Limpieza de datos</a><br>\n",
        "- <a href=\"#pythonIntro\">2. Análisis exploratorio</a><br>\n"
      ]
    },
    {
      "cell_type": "markdown",
      "metadata": {
        "id": "gPg3AZpbGn5M"
      },
      "source": [
        "<p><a name=\"colabIntro\"></a></p>\n",
        "\n",
        "# 1) Carga y limpieza de datos\n",
        "\n",
        "La limpieza de datos representa uno de los pasos esenciales en el desarrollo de modelos, ya que al contar con datos faltantes o elementos extraños los algortimos para la convergencia del modelo no trabajarán correctamentefrom google.colab import files\n",
        "uploaded = files.upload()"
      ]
    },
    {
      "cell_type": "code",
      "metadata": {
        "colab": {
          "resources": {
            "http://localhost:8080/nbextensions/google.colab/files.js": {
              "data": "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",
              "ok": true,
              "headers": [
                [
                  "content-type",
                  "application/javascript"
                ]
              ],
              "status": 200,
              "status_text": ""
            }
          },
          "base_uri": "https://localhost:8080/",
          "height": 72
        },
        "id": "b3dTUCpoLJ3A",
        "outputId": "927cfe02-04a8-4e84-b0f7-fefdced2a2f3"
      },
      "source": [
        "from google.colab import files\n",
        "import pandas as pd\n",
        "import io\n",
        "\n",
        "uploaded = files.upload()"
      ],
      "execution_count": null,
      "outputs": [
        {
          "output_type": "display_data",
          "data": {
            "text/html": [
              "\n",
              "     <input type=\"file\" id=\"files-1345e101-1a7a-4e84-8c9f-3032afaa0208\" name=\"files[]\" multiple disabled\n",
              "        style=\"border:none\" />\n",
              "     <output id=\"result-1345e101-1a7a-4e84-8c9f-3032afaa0208\">\n",
              "      Upload widget is only available when the cell has been executed in the\n",
              "      current browser session. Please rerun this cell to enable.\n",
              "      </output>\n",
              "      <script src=\"/nbextensions/google.colab/files.js\"></script> "
            ],
            "text/plain": [
              "<IPython.core.display.HTML object>"
            ]
          },
          "metadata": {
            "tags": []
          }
        },
        {
          "output_type": "stream",
          "text": [
            "Saving Consolidado agrícola exp. a feb 2020.xlsx - Hoja1.csv to Consolidado agrícola exp. a feb 2020.xlsx - Hoja1.csv\n"
          ],
          "name": "stdout"
        }
      ]
    },
    {
      "cell_type": "code",
      "metadata": {
        "colab": {
          "base_uri": "https://localhost:8080/",
          "height": 137
        },
        "id": "hvHTQBw3NlWL",
        "outputId": "72ad9d03-cd8f-401a-ae72-f24883dd5ab9"
      },
      "source": [
        "uploaded['Consolidado agrícola exp. a feb 2020.xlsx - Hoja1.csv'].decode('utf-8')"
      ],
      "execution_count": null,
      "outputs": [
        {
          "output_type": "execute_result",
          "data": {
            "application/vnd.google.colaboratory.intrinsic+json": {
              "type": "string"
            },
            "text/plain": [
              "'FECHA,NOMBREPARTICIPANTE,CEDULA,MUNICIPIO,CORREGIMIENTO,VEREDA,ESPECIES,KG\\r\\n24/8/2019,ESTELA LLANES,60323906,Florencia,Venecia,El Mesón,YUCA,993\\r\\n20/8/2019,HERNANDO AGUDELO,17633504,Florencia,Venecia,Alto Canelos,YUCA,381\\r\\n15/7/2019,JOSE ALEJO RODRIGUEZ,17623191,Florencia,Venecia,El Mesón,YUCA,\"350,8\"\\r\\n17/8/2019,JOSE ALEJO RODRIGUEZ,17623191,Florencia,Venecia,El Mesón,YUCA,\"609,2\"\\r\\n24/8/2019,JUAN GASPAR,17633567,Florencia,Venecia,El Mesón,YUCA,532\\r\\n15/5/2019,LAURENTINO CUELLAR,17625677,Florencia,Venecia,La Florida,YUCA,\"31,4\"\\r\\n15/6/2019,LAURENTINO CUELLAR,17625677,Florencia,Venecia,La Florida,YUCA,\"50,6\"\\r\\n15/7/2019,LAURENTINO CUELLAR,17625677,Florencia,Venecia,La Florida,YUCA,\"141,2\"\\r\\n15/8/2019,LAURENTINO CUELLAR,17625677,Florencia,Venecia,La Florida,YUCA,\"756,8\"\\r\\n18/5/2019,LEONOR MOSQUERA,26043907,Florencia,Venecia,La Esperenza,MAIZ,\"66,7\"\\r\\n20/5/2019,LEONOR MOSQUERA,26043907,Florencia,Venecia,La Esperenza,YUCA,150\\r\\n20/8/2019,LEONOR MOSQUERA,26043907,Florencia,Venecia,La Esperenza,YUCA,380\\r\\n15/7/2019,LUIS EDUARDO CHILITO,12268782,Florencia,Venecia,La Paz,YUCA,\"1485,8\"\\r\\n17/8/2019,LUIS EDUARDO CHILITO,12268782,Florencia,Venecia,La Paz,YUCA,\"2288,7\"\\r\\n20/8/2019,MAGDA AGUDELO,40612932,Florencia,Venecia,Alto Canelos,YUCA,143\\r\\n15/7/2019,MAYERLY ROJAS,1117525765,Florencia,Venecia,Alto Canelo,YUCA,\"24,7\"\\r\\n15/8/2019,MAYERLY ROJAS,1117525765,Florencia,Venecia,Alto Canelo,YUCA,\"26,5\"\\r\\n15/2/2019,RAFAEL CHILITO,17634957,Florencia,Venecia,La Esperenza,AHUYAMA,\"17,8\"\\r\\n5/4/2019,ELIANA CASALLAS,1010212882,El Paujil,El Paujil,Congas,PEPINO,42\\r\\n15/2/2019,RAFAEL CHILITO,17634957,Florencia,Venecia,La Esperenza,SANDIA,25\\r\\n15/5/2019,RAFAEL CHILITO,17634957,Florencia,Venecia,La Esperenza,MAIZ,204\\r\\n15/6/2019,RAFAEL CHILITO,17634957,Florencia,Venecia,La Esperenza,MAIZ,\"68,3\"\\r\\n15/6/2019,RAFAEL CHILITO,17634957,Florencia,Venecia,La Esperenza,SANDIA,111\\r\\n29/6/2019,RAFAEL CHILITO,17634957,Florencia,Venecia,La Esperenza,YUCA,21\\r\\n20/7/2019,RAFAEL CHILITO,17634957,Florencia,Venecia,La Esperenza,YUCA,17\\r\\n17/8/2019,RAFAEL CHILITO,17634957,Florencia,Venecia,La Esperenza,YUCA,\"77,6\"\\r\\n18/9/2019,RAFAEL CHILITO,17634957,Florencia,Venecia,La Esperenza,YUCA,\"5317,5\"\\r\\n15/5/2019,REINALDO CASANOVA,17624174,Florencia,Venecia,La Esperenza,YUCA,\"132,8\"\\r\\n15/6/2019,REINALDO CASANOVA,17624174,Florencia,Venecia,La Esperenza,YUCA,\"140,5\"\\r\\n15/7/2019,REINALDO CASANOVA,17624174,Florencia,Venecia,La Esperenza,YUCA,\"166,6\"\\r\\n15/8/2019,REINALDO CASANOVA,17624174,Florencia,Venecia,La Esperenza,YUCA,\"2055,8\"\\r\\n29/8/2019,RODRIGO ROJAS,83220718,Florencia,Venecia,Capitolio,MAIZ,250\\r\\n29/8/2019,RODRIGO ROJAS,83220718,Florencia,Venecia,Capitolio,SANDIA,480\\r\\n29/8/2019,RODRIGO ROJAS,83220718,Florencia,Venecia,Capitolio,YUCA,630\\r\\n20/12/2019,RAFAEL CHILITO ,17634957,Florencia,Venecia,LA PAZ,AHUYAMA,3\\r\\n20/1/2020,RAFAEL CHILITO ,17634957,Florencia,Venecia,LA PAZ,AHUYAMA,4\\r\\n18/12/2019,EVERTH LOAIZA,96329112,Florencia,Santo Domingo,SANTANDER,MAIZ,150\\r\\n20/12/2019,EVERTH LOAIZA,96329112,Florencia,Santo Domingo,SANTANDER,FRIJOL,\"1,5\"\\r\\n20/12/2019,EVERTH LOAIZA,96329112,Florencia,Santo Domingo,SANTANDER,SANDIA,\"3,6\"\\r\\n10/1/2020,EVERTH LOAIZA,96329112,Florencia,Santo Domingo,SANTANDER,MAIZ,50\\r\\n15/1/2020,JUDY MARCELA DUSSAN,40612658,Florencia,Santo Domingo,SANTANDER,FRIJOL,3\\r\\n18/2/2020,JUDY MARCELA DUSSAN,40612658,Florencia,Santo Domingo,SANTANDER,AHUYAMA,\"1,8\"\\r\\n25/2/2020,JUDY MARCELA DUSSAN,40612658,Florencia,Santo Domingo,SANTANDER,SANDIA,\"27,5\"\\r\\n19/8/2019,ALBA LUCIA PULIDO,40081962,Florencia,Santo Domingo,Santander,AHUYAMA,90\\r\\n19/8/2019,ALBA LUCIA PULIDO,40081962,Florencia,Santo Domingo,Santander,MAIZ,151\\r\\n19/8/2019,ALBA LUCIA PULIDO,40081962,Florencia,Santo Domingo,Santander,YUCA,1146\\r\\n12/3/2019,ALEXANDRA CABRERA,55067084,Florencia,Santo Domingo,La Granja,AHUYAMA,124\\r\\n12/4/2019,ALEXANDRA CABRERA,55067084,Florencia,Santo Domingo,La Granja,AHUYAMA,125\\r\\n12/4/2019,ALEXANDRA CABRERA,55067084,Florencia,Santo Domingo,La Granja,MAIZ,126\\r\\n12/4/2019,ALEXANDRA CABRERA,55067084,Florencia,Santo Domingo,La Granja,YUCA,84\\r\\n16/5/2019,ALEXANDRA CABRERA,55067084,Florencia,Santo Domingo,La Granja,AHUYAMA,124\\r\\n16/5/2019,ALEXANDRA CABRERA,55067084,Florencia,Santo Domingo,La Granja,MAIZ,130\\r\\n16/5/2019,ALEXANDRA CABRERA,55067084,Florencia,Santo Domingo,La Granja,YUCA,83\\r\\n14/6/2019,ALEXANDRA CABRERA,55067084,Florencia,Santo Domingo,La Granja,AHUYAMA,127\\r\\n14/6/2019,ALEXANDRA CABRERA,55067084,Florencia,Santo Domingo,La Granja,YUCA,92\\r\\n13/8/2019,ALEXANDRA CABRERA,55067084,Florencia,Santo Domingo,La Granja,YUCA,160\\r\\n16/9/2019,ALEXANDRA CABRERA,55067084,Florencia,Santo Domingo,La Granja,YUCA,539\\r\\n16/10/2019,ALEXANDRA CABRERA,55067084,Florencia,Santo Domingo,La Granja,YUCA,455\\r\\n18/11/2019,ALEXANDRA CABRERA,55067084,Florencia,Santo Domingo,La Granja,YUCA,715\\r\\n15/1/2019,ALFONSO LOPEZ,96340376,Florencia,Santo Domingo,Santander II,YUCA,26\\r\\n18/1/2019,ALFONSO LOPEZ,96340376,Florencia,Santo Domingo,Santander II,YUCA,34\\r\\n26/1/2019,ALFONSO LOPEZ,96340376,Florencia,Santo Domingo,Santander II,YUCA,43\\r\\n4/2/2019,ALFONSO LOPEZ,96340376,Florencia,Santo Domingo,Santander II,MAIZ,98\\r\\n4/2/2019,ALFONSO LOPEZ,96340376,Florencia,Santo Domingo,Santander II,YUCA,39\\r\\n12/2/2019,ALFONSO LOPEZ,96340376,Florencia,Santo Domingo,Santander II,MAIZ,98\\r\\n12/2/2019,ALFONSO LOPEZ,96340376,Florencia,Santo Domingo,Santander II,YUCA,34\\r\\n22/2/2019,ALFONSO LOPEZ,96340376,Florencia,Santo Domingo,Santander II,YUCA,43\\r\\n3/3/2019,ALFONSO LOPEZ,96340376,Florencia,Santo Domingo,Santander II,AHUYAMA,67\\r\\n3/3/2019,ALFONSO LOPEZ,96340376,Florencia,Santo Domingo,Santander II,FRIJOL,25\\r\\n3/3/2019,ALFONSO LOPEZ,96340376,Florencia,Santo Domingo,Santander II,MAIZ,67\\r\\n15/5/2019,ELIANA CASALLAS,1010212882,El Paujil,El Paujil,Congas,PEPINO,\"20,5\"\\r\\n3/3/2019,ALFONSO LOPEZ,96340376,Florencia,Santo Domingo,Santander II,YUCA,153\\r\\n11/3/2019,ALFONSO LOPEZ,96340376,Florencia,Santo Domingo,Santander II,AHUYAMA,75\\r\\n11/3/2019,ALFONSO LOPEZ,96340376,Florencia,Santo Domingo,Santander II,MAIZ,69\\r\\n11/3/2019,ALFONSO LOPEZ,96340376,Florencia,Santo Domingo,Santander II,YUCA,154\\r\\n22/3/2019,ALFONSO LOPEZ,96340376,Florencia,Santo Domingo,Santander II,YUCA,127\\r\\n12/4/2019,ALFONSO LOPEZ,96340376,Florencia,Santo Domingo,Santander II,AHUYAMA,118\\r\\n12/4/2019,ALFONSO LOPEZ,96340376,Florencia,Santo Domingo,Santander II,MAIZ,68\\r\\n21/4/2019,ALFONSO LOPEZ,96340376,Florencia,Santo Domingo,Santander II,AHUYAMA,140\\r\\n19/9/2019,ALFONSO LOPEZ,96340376,Florencia,Santo Domingo,Santander II,YUCA,42\\r\\n18/5/2019,ANA RITA CRUZ,26627854,Florencia,Santo Domingo,Santander,MAIZ,81\\r\\n18/8/2019,ANA RITA CRUZ,26627854,Florencia,Santo Domingo,Santander,MAIZ,180\\r\\n15/8/2019,CENON MAVESOY,17622238,Florencia,Santo Domingo,Colombia,YUCA,430\\r\\n14/8/2019,EMPERATRIZ ANDRADE,40764306,Florencia,Santo Domingo,Santander,YUCA,531\\r\\n15/1/2019,EVERTH LOAIZA ARIAS,90329112,Florencia,Santo Domingo,Santander,SANDIA,21\\r\\n13/3/2019,ESPERANZA ARANZALES,40758733,El Paujil,El Paujil,Guadualito,PEPINO,35\\r\\n15/2/2019,EVERTH LOAIZA ARIAS,90329112,Florencia,Santo Domingo,Santander,FRIJOL,0\\r\\n15/2/2019,EVERTH LOAIZA ARIAS,90329112,Florencia,Santo Domingo,Santander,SANDIA,51\\r\\n15/4/2019,EVERTH LOAIZA ARIAS,90329112,Florencia,Santo Domingo,Santander,YUCA,\"118,81\"\\r\\n15/5/2019,EVERTH LOAIZA ARIAS,90329112,Florencia,Santo Domingo,Santander,YUCA,50\\r\\n13/6/2019,EVERTH LOAIZA ARIAS,90329112,Florencia,Santo Domingo,Santander,MAIZ,\"283,7\"\\r\\n15/6/2019,EVERTH LOAIZA ARIAS,90329112,Florencia,Santo Domingo,Santander,YUCA,\"88,6\"\\r\\n20/6/2019,EVERTH LOAIZA ARIAS,90329112,Florencia,Santo Domingo,Santander,FRIJOL,32\\r\\n15/7/2019,EVERTH LOAIZA ARIAS,90329112,Florencia,Santo Domingo,Santander,MAIZ,\"93,07\"\\r\\n12/4/2019,ESPERANZA ARANZALES,40758733,El Paujil,El Paujil,Guadualito,PEPINO,\"38,5\"\\r\\n15/7/2019,EVERTH LOAIZA ARIAS,90329112,Florencia,Santo Domingo,Santander,YUCA,\"25,5\"\\r\\n16/8/2019,EVERTH LOAIZA ARIAS,90329112,Florencia,Santo Domingo,Santander,YUCA,\"1895,7\"\\r\\n18/6/2019,GILBERTO PULIDO,41964317,Florencia,Santo Domingo,Santander,AHUYAMA,297\\r\\n30/7/2019,GILBERTO PULIDO,41964317,Florencia,Santo Domingo,Santander,AHUYAMA,195\\r\\n30/7/2019,GILBERTO PULIDO,41964317,Florencia,Santo Domingo,Santander,MAIZ,134\\r\\n30/7/2019,GILBERTO PULIDO,41964317,Florencia,Santo Domingo,Santander,YUCA,457\\r\\n15/8/2019,GILBERTO PULIDO,41964317,Florencia,Santo Domingo,Santander,YUCA,320\\r\\n14/8/2019,GIMY MUÑOZ,93336483,Florencia,Santo Domingo,Santander,YUCA,168\\r\\n22/6/2019,GLADYS GUACA,26640820,Florencia,Santo Domingo,La Granja,YUCA,15\\r\\n13/8/2019,GLADYS GUACA,26640820,Florencia,Santo Domingo,La Granja,YUCA,433\\r\\n19/9/2019,GLADYS GUACA,26640820,Florencia,Santo Domingo,La Granja,YUCA,78\\r\\n19/10/2019,GLADYS GUACA,26640820,Florencia,Santo Domingo,La Granja,YUCA,380\\r\\n21/8/2019,HERMES VARGAS,17704205,Florencia,Santo Domingo,Santander,YUCA,677\\r\\n15/2/2019,IGNACIO ROJAS ,6804627,Florencia,Santo Domingo,Casco urbano de Florencia ,YUCA,0\\r\\n15/3/2019,IGNACIO ROJAS ,6804627,Florencia,Santo Domingo,Casco urbano de Florencia ,AHUYAMA,\"139,7\"\\r\\n15/4/2019,IGNACIO ROJAS ,6804627,Florencia,Santo Domingo,Casco urbano de Florencia ,AHUYAMA,\"83,1\"\\r\\n15/5/2019,IGNACIO ROJAS ,6804627,Florencia,Santo Domingo,Casco urbano de Florencia ,AHUYAMA,\"67,42\"\\r\\n15/6/2019,IGNACIO ROJAS ,6804627,Florencia,Santo Domingo,Casco urbano de Florencia ,AHUYAMA,\"65,9\"\\r\\n15/7/2019,IGNACIO ROJAS ,6804627,Florencia,Santo Domingo,Casco urbano de Florencia ,AHUYAMA,57\\r\\n15/7/2019,IGNACIO ROJAS ,6804627,Florencia,Santo Domingo,Casco urbano de Florencia ,YUCA,\"21,2\"\\r\\n20/8/2019,IGNACIO ROJAS ,6804627,Florencia,Santo Domingo,Casco urbano de Florencia ,YUCA,\"17,7\"\\r\\n24/9/2019,IGNACIO ROJAS ,6804627,Florencia,Santo Domingo,Casco urbano de Florencia ,YUCA,\"51,2\"\\r\\n19/8/2019,JAIRO AROS,79379798,Florencia,Santo Domingo,Santander,YUCA,371\\r\\n15/5/2019,JUDY M. DUSSAN,40612658,Florencia,Santo Domingo,Santander,YUCA,\"128,8\"\\r\\n15/6/2019,JUDY M. DUSSAN,40612658,Florencia,Santo Domingo,Santander,MAIZ,\"274,2\"\\r\\n15/6/2019,JUDY M. DUSSAN,40612658,Florencia,Santo Domingo,Santander,YUCA,\"24,7\"\\r\\n5/7/2019,JUDY M. DUSSAN,40612658,Florencia,Santo Domingo,Santander,FRIJOL,5\\r\\n15/7/2019,JUDY M. DUSSAN,40612658,Florencia,Santo Domingo,Santander,MAIZ,\"70,7\"\\r\\n15/7/2019,JUDY M. DUSSAN,40612658,Florencia,Santo Domingo,Santander,YUCA,\"21,5\"\\r\\n16/8/2019,JUDY M. DUSSAN,40612658,Florencia,Santo Domingo,Santander,YUCA,608\\r\\n19/8/2019,LILIA ACEVEDO CRUZ,40774265,Florencia,Santo Domingo,Santander,YUCA,1075\\r\\n20/5/2019,LISDEY RICO G.,1117531486,Florencia,Santo Domingo,Colombia,FRIJOL,\"17,5\"\\r\\n15/6/2019,LISDEY RICO G.,1117531486,Florencia,Santo Domingo,Colombia,AHUYAMA,\"50,6\"\\r\\n15/6/2019,LISDEY RICO G.,1117531486,Florencia,Santo Domingo,Colombia,MAIZ,\"158,4\"\\r\\n25/7/2019,LISDEY RICO G.,1117531486,Florencia,Santo Domingo,Colombia,YUCA,\"65,5\"\\r\\n27/8/2019,LISDEY RICO G.,1117531486,Florencia,Santo Domingo,Colombia,YUCA,\"1401,3\"\\r\\n15/8/2019,LUCERO CARRILLO,51845585,Florencia,Santo Domingo,Las Minas,YUCA,65\\r\\n18/5/2019,LUZ DELIA GUERRERO,26643778,Florencia,Santo Domingo,Santander,MAIZ,157\\r\\n18/5/2019,LUZ DELIA GUERRERO,26643778,Florencia,Santo Domingo,Santander,YUCA,1262\\r\\n10/6/2019,LUZ DELIA GUERRERO,26643778,Florencia,Santo Domingo,Santander,AHUYAMA,241\\r\\n15/7/2019,LUZ DELIA GUERRERO,26643778,Florencia,Santo Domingo,Santander,AHUYAMA,233\\r\\n15/8/2019,LUZ DELIA GUERRERO,26643778,Florencia,Santo Domingo,Santander,YUCA,180\\r\\n18/8/2019,NERIS VARON,25013973,Florencia,Santo Domingo,Santander,YUCA,300\\r\\n18/5/2019,NIDIA CHAVARRO,40610949,Florencia,Santo Domingo,Santander,AHUYAMA,55\\r\\n11/6/2019,NIDIA CHAVARRO,40610949,Florencia,Santo Domingo,Santander,YUCA,63\\r\\n21/6/2019,NIDIA CHAVARRO,40610949,Florencia,Santo Domingo,Santander,AHUYAMA,94\\r\\n8/7/2019,NIDIA CHAVARRO,40610949,Florencia,Santo Domingo,Santander,YUCA,143\\r\\n29/7/2019,NIDIA CHAVARRO,40610949,Florencia,Santo Domingo,Santander,AHUYAMA,42\\r\\n15/8/2019,NIDIA CHAVARRO,40610949,Florencia,Santo Domingo,Santander,YUCA,323\\r\\n15/1/2019,YUDI MARCELA LOPEZ,1083870570,Florencia,Santo Domingo,Santander II,YUCA,29\\r\\n18/1/2019,YUDI MARCELA LOPEZ,1083870570,Florencia,Santo Domingo,Santander II,YUCA,40\\r\\n26/1/2019,YUDI MARCELA LOPEZ,1083870570,Florencia,Santo Domingo,Santander II,YUCA,46\\r\\n4/2/2019,YUDI MARCELA LOPEZ,1083870570,Florencia,Santo Domingo,Santander II,MAIZ,110\\r\\n4/2/2019,YUDI MARCELA LOPEZ,1083870570,Florencia,Santo Domingo,Santander II,YUCA,46\\r\\n12/2/2019,YUDI MARCELA LOPEZ,1083870570,Florencia,Santo Domingo,Santander II,MAIZ,110\\r\\n12/2/2019,YUDI MARCELA LOPEZ,1083870570,Florencia,Santo Domingo,Santander II,YUCA,41\\r\\n22/2/2019,YUDI MARCELA LOPEZ,1083870570,Florencia,Santo Domingo,Santander II,YUCA,37\\r\\n3/3/2019,YUDI MARCELA LOPEZ,1083870570,Florencia,Santo Domingo,Santander II,AHUYAMA,72\\r\\n3/3/2019,YUDI MARCELA LOPEZ,1083870570,Florencia,Santo Domingo,Santander II,FRIJOL,27\\r\\n3/3/2019,YUDI MARCELA LOPEZ,1083870570,Florencia,Santo Domingo,Santander II,MAIZ,75\\r\\n15/5/2019,ESPERANZA ARANZALES,40758733,El Paujil,El Paujil,Guadualito,PEPINO,14\\r\\n3/3/2019,YUDI MARCELA LOPEZ,1083870570,Florencia,Santo Domingo,Santander II,YUCA,145\\r\\n11/3/2019,YUDI MARCELA LOPEZ,1083870570,Florencia,Santo Domingo,Santander II,AHUYAMA,79\\r\\n11/3/2019,YUDI MARCELA LOPEZ,1083870570,Florencia,Santo Domingo,Santander II,MAIZ,68\\r\\n11/3/2019,YUDI MARCELA LOPEZ,1083870570,Florencia,Santo Domingo,Santander II,YUCA,177\\r\\n22/3/2019,YUDI MARCELA LOPEZ,1083870570,Florencia,Santo Domingo,Santander II,YUCA,109\\r\\n12/4/2019,YUDI MARCELA LOPEZ,1083870570,Florencia,Santo Domingo,Santander II,AHUYAMA,121\\r\\n12/4/2019,YUDI MARCELA LOPEZ,1083870570,Florencia,Santo Domingo,Santander II,MAIZ,67\\r\\n21/4/2019,YUDI MARCELA LOPEZ,1083870570,Florencia,Santo Domingo,Santander II,AHUYAMA,148\\r\\n10/2/2020,YUDY MARCELA LOPEZ,1083870570,Florencia,SANTO DOMINGO,SANTANDER II,MAIZ,420\\r\\n10/2/2020,YUDY MARCELA LOPEZ,1083870570,Florencia,SANTO DOMINGO,SANTANDER II,AHUYAMA,11\\r\\n20/1/2020,ALEXANDRA CABRERA,55067059,Florencia,SANTO DOMINGO,LA GRANJA,MAIZ,214\\r\\n10/2/2020,ALEXANDRA CABRERA,55067060,Florencia,SANTO DOMINGO,LA GRANJA,MAIZ,446\\r\\n10/2/2020,ALEXANDRA CABRERA,55067061,Florencia,SANTO DOMINGO,LA GRANJA,AHUYAMA,63\\r\\n10/2/2020,ALEXANDRA CABRERA,55067062,Florencia,SANTO DOMINGO,LA GRANJA,SANDIA,149\\r\\n10/2/2020,GLADYS GUACA,26640820,Florencia,SANTO DOMINGO,LA GRANJA,AHUYAMA,46\\r\\n20/1/2020,ALFONSO LOPEZ,1083870570,Florencia,SANTO DOMINGO,SANTANDER II,MAIZ,120\\r\\n10/2/2020,ALFONSO LOPEZ,1083870571,Florencia,SANTO DOMINGO,SANTANDER II,MAIZ,343\\r\\n10/2/2020,ALFONSO LOPEZ,1083870572,Florencia,SANTO DOMINGO,SANTANDER II,AHUYAMA,67\\r\\n13/2/2020,ANA RITA CRUZ DE ACEVEDO,26627854,Florencia,Santo Domingo,Santander,MAIZ,\"41,5\"\\r\\n11/2/2020,LUZ DELIA GUERRERO,26643778,Florencia,Santo Domingo,Santander,MAIZ,45\\r\\n11/2/2020,LUZ DELIA GUERRERO,26643778,Florencia,Santo Domingo,Santander,AHUYAMA,\"2,845\"\\r\\n11/2/2020,LUZ DELIA GUERRERO,26643778,Florencia,Santo Domingo,Santander,SANDIA,\"10,46\"\\r\\n13/2/2020,NERIS VARON,25013973,Florencia,Santo Domingo,Santander,MAIZ,66\\r\\n13/2/2020,NERIS VARON,25013973,Florencia,Santo Domingo,Santander,AHUYAMA,23\\r\\n13/2/2020,NERIS VARON,25013973,Florencia,Santo Domingo,Santander,SANDIA,44\\r\\n20/12/2019,BLADIMIR SANDOVAL,4957224,Florencia,SAN PEDRO,MARACAIBO,MAIZ,\"190,5\"\\r\\n22/12/2019,BLADIMIR SANDOVAL,4957224,Florencia,SAN PEDRO,MARACAIBO,SANDIA,\"13,6\"\\r\\n15/1/2020,BLADIMIR SANDOVAL,4957224,Florencia,SAN PEDRO,MARACAIBO,MAIZ,100\\r\\n18/1/2020,BLADIMIR SANDOVAL,4957224,Florencia,SAN PEDRO,MARACAIBO,FRIJOL,\"3,5\"\\r\\n18/1/2020,BLADIMIR SANDOVAL,4957224,Florencia,SAN PEDRO,MARACAIBO,AHUYAMA,15\\r\\n19/1/2020,BLADIMIR SANDOVAL,4957224,Florencia,SAN PEDRO,MARACAIBO,SANDIA,\"36,8\"\\r\\n15/2/2020,BLADIMIR SANDOVAL,4957224,Florencia,SAN PEDRO,MARACAIBO,MAIZ,80\\r\\n15/2/2020,BLADIMIR SANDOVAL,4957224,Florencia,SAN PEDRO,MARACAIBO,AHUYAMA,1\\r\\n20/2/2020,BLADIMIR SANDOVAL,4957224,Florencia,SAN PEDRO,MARACAIBO,SANDIA,\"50,6\"\\r\\n14/8/2019,ADAIME SAPUY,17630589,Florencia,San Martín,Santander,YUCA,480\\r\\n21/8/2019,ALIRIO GUTIERREZ,17632050,Florencia,San Martín,Colombia,YUCA,316\\r\\n15/6/2019,CLARA GUZMAN,40670741,Florencia,San Martín,Colombia,YUCA,\"30,9\"\\r\\n15/7/2019,CLARA GUZMAN,40670741,Florencia,San Martín,Colombia,YUCA,\"44,2\"\\r\\n15/8/2019,CLARA GUZMAN,40670741,Florencia,San Martín,Colombia,YUCA,\"81,4\"\\r\\n13/4/2019,CRISTIAN ROJAS,1117513355,Florencia,San Martín,La Viciosa,YUCA,\"22,11\"\\r\\n15/8/2019,CRISTIAN ROJAS,1117513355,Florencia,San Martín,La Viciosa,YUCA,175\\r\\n12/2/2019,GABRIEL CANO,17656708,Florencia,San Martín,La Viciosa,MAIZ,\"92,1\"\\r\\n9/4/2019,GABRIEL CANO,17656708,Florencia,San Martín,La Viciosa,YUCA,\"75,5\"\\r\\n20/5/2019,GABRIEL CANO,17656708,Florencia,San Martín,La Viciosa,YUCA,\"94,23\"\\r\\n15/6/2019,GABRIEL CANO,17656708,Florencia,San Martín,La Viciosa,YUCA,\"108,85\"\\r\\n15/8/2019,GABRIEL CANO,17656708,Florencia,San Martín,La Viciosa,YUCA,210\\r\\n15/6/2019,GUILLERMO OSSA,17624530,Florencia,San Martín,La Turbia,YUCA,\"95,7\"\\r\\n15/7/2019,GUILLERMO OSSA,17624530,Florencia,San Martín,La Turbia,YUCA,\"199,4\"\\r\\n15/8/2019,GUILLERMO OSSA,17624530,Florencia,San Martín,La Turbia,YUCA,1463\\r\\n15/4/2019,INES NUÑEZ,17623907,Florencia,San Martín,Colombia,AHUYAMA,\"12,5\"\\r\\n15/4/2019,INES NUÑEZ,17623907,Florencia,San Martín,Colombia,MAIZ,\"3,8\"\\r\\n15/7/2019,INES NUÑEZ,17623907,Florencia,San Martín,Colombia,YUCA,\"28,1\"\\r\\n15/8/2019,INES NUÑEZ,17623907,Florencia,San Martín,Colombia,YUCA,\"84,3\"\\r\\n25/9/2019,INES NUÑEZ,17623907,Florencia,San Martín,Colombia,YUCA,\"511,9\"\\r\\n12/2/2019,JAIME ROMERO,17644935,Florencia,San Martín,La Viciosa,MAIZ,\"71,4\"\\r\\n6/4/2019,JAIME ROMERO,17644935,Florencia,San Martín,La Viciosa,YUCA,\"71,5\"\\r\\n19/5/2019,JAIME ROMERO,17644935,Florencia,San Martín,La Viciosa,YUCA,\"60,7\"\\r\\n15/8/2019,JAIME ROMERO,17644935,Florencia,San Martín,La Viciosa,YUCA,171\\r\\n20/5/2019,MARICEL GOMEZ,1117189504,Florencia,San Martín,San Julián,YUCA,\"19,3\"\\r\\n20/6/2019,MARICEL GOMEZ,1117189504,Florencia,San Martín,San Julián,YUCA,24\\r\\n21/8/2019,PEDRO HERVEY GALINDO,17699795,Florencia,San Martín,Colombia,YUCA,1007\\r\\n15/12/2018,VICTORIA MENDOZA,40762639,Florencia,San Martín,La Turbia,MAIZ,\"43,8\"\\r\\n18/3/2019,SABARAIN DUARTE,96329995,El Paujil,El Paujil,Guadualito,PEPINO,\"112,5\"\\r\\n8/4/2019,SABARAIN DUARTE,96329995,El Paujil,El Paujil,Guadualito,PEPINO,50\\r\\n15/2/2019,RAFAEL CHILITO,17634957,Florencia,Venecia,La Esperenza,PEPINO,\"22,8\"\\r\\n15/4/2019,VICTORIA MENDOZA,40762639,Florencia,San Martín,La Turbia,PEPINO,23\\r\\n16/4/2019,VICTORIA MENDOZA,40762639,Florencia,San Martín,La Turbia,PEPINO,\"25,5\"\\r\\n17/4/2019,VICTORIA MENDOZA,40762639,Florencia,San Martín,La Turbia,PEPINO,\"18,2\"\\r\\n18/4/2019,VICTORIA MENDOZA,40762639,Florencia,San Martín,La Turbia,PEPINO,26\\r\\n19/4/2019,VICTORIA MENDOZA,40762639,Florencia,San Martín,La Turbia,PEPINO,15\\r\\n20/4/2019,VICTORIA MENDOZA,40762639,Florencia,San Martín,La Turbia,PEPINO,11\\r\\n21/4/2019,VICTORIA MENDOZA,40762639,Florencia,San Martín,La Turbia,PEPINO,\"8,5\"\\r\\n22/4/2019,VICTORIA MENDOZA,40762639,Florencia,San Martín,La Turbia,PEPINO,\"10,5\"\\r\\n23/4/2019,VICTORIA MENDOZA,40762639,Florencia,San Martín,La Turbia,PEPINO,\"5,6\"\\r\\n15/5/2019,VICTORIA MENDOZA,40762639,Florencia,San Martín,La Turbia,AHUYAMA,\"23,8\"\\r\\n15/7/2019,VICTORIA MENDOZA,40762639,Florencia,San Martín,La Turbia,YUCA,224\\r\\n17/8/2019,VICTORIA MENDOZA,40762639,Florencia,San Martín,La Turbia,YUCA,\"123,4\"\\r\\n24/9/2019,VICTORIA MENDOZA,40762639,Florencia,San Martín,La Turbia,YUCA,635\\r\\n21/8/2019,LILIANA PAOLA ROCHA,40614061,Florencia,San Martin,La Granja,YUCA,738\\r\\n15/2/2020,INES NUÑEZ LEDESMA,26618064,Florencia,SAN MARTIN,COLOMBIA,AHUYAMA,\"3,2\"\\r\\n20/12/2019,VICTORIA MENDOZA,40762739,Florencia,SAN MARTIN,LA TURBIA,AHUYAMA,1\\r\\n24/4/2019,VICTORIA MENDOZA,40762639,Florencia,San Martín,La Turbia,PEPINO,\"12,3\"\\r\\n15/2/2020,VICTORIA MENDOZA,40762739,Florencia,SAN MARTIN,LA TURBIA,MAIZ,2\\r\\n25/4/2019,VICTORIA MENDOZA,40762639,Florencia,San Martín,La Turbia,PEPINO,\"15,4\"\\r\\n18/8/2019,CLEOFE HURTADO,26637298,Florencia,Caraño,Sucre,FRIJOL,50\\r\\n18/8/2019,CLEOFE HURTADO,26637298,Florencia,Caraño,Sucre,MAIZ,35\\r\\n18/8/2019,CLEOFE HURTADO,26637298,Florencia,Caraño,Sucre,YUCA,800\\r\\n16/5/2019,ELI CUELLAR,4960490,Florencia,Caraño,Nueva Jerusalén,YUCA,108\\r\\n18/5/2019,ELI CUELLAR,4960490,Florencia,Caraño,Nueva Jerusalén,FRIJOL,\"11,08\"\\r\\n14/8/2019,ISIDORO PEREZ,10116156,Florencia,Caraño,Villa Raz,FRIJOL,30\\r\\n14/8/2019,ISIDORO PEREZ,10116156,Florencia,Caraño,Villa Raz,YUCA,298\\r\\n18/9/2019,ISIDORO PEREZ,10116156,Florencia,Caraño,Villa Raz,YUCA,75\\r\\n27/10/2019,ISIDORO PEREZ,10116156,Florencia,Caraño,Villa Raz,YUCA,124\\r\\n21/11/2019,ISIDORO PEREZ,10116156,Florencia,Caraño,Villa Raz,YUCA,386\\r\\n10/4/2019,LEIDY VARGAS,1115790327,Florencia,Caraño,Villa Raz,MAIZ,\"187,5\"\\r\\n15/4/2019,LEIDY VARGAS,1115790327,Florencia,Caraño,Villa Raz,YUCA,100\\r\\n18/4/2019,LEIDY VARGAS,1115790327,Florencia,Caraño,Villa Raz,FRIJOL,\"13,2\"\\r\\n26/4/2019,VICTORIA MENDOZA,40762639,Florencia,San Martín,La Turbia,PEPINO,\"7,5\"\\r\\n8/5/2019,LEIDY VARGAS,1115790327,Florencia,Caraño,Villa Raz,MAIZ,\"151,93\"\\r\\n23/1/2019,LUIS EDUARDO PER,176511078,Florencia,Caraño,Sucre,MAIZ,185\\r\\n18/2/2019,LUIS EDUARDO PER,176511078,Florencia,Caraño,Sucre,MAIZ,190\\r\\n25/2/2019,LUIS EDUARDO PER,176511078,Florencia,Caraño,Sucre,FRIJOL,9\\r\\n25/2/2019,LUIS EDUARDO PER,176511078,Florencia,Caraño,Sucre,YUCA,201\\r\\n16/8/2019,LUIS EDUARDO PER,176511078,Florencia,Caraño,Sucre,FRIJOL,29\\r\\n16/8/2019,LUIS EDUARDO PER,176511078,Florencia,Caraño,Sucre,YUCA,1797\\r\\n15/4/2019,MILLER GONZALES,4902285,Florencia,Caraño,Villa Raz,AHUYAMA,65\\r\\n15/4/2019,MILLER GONZALES,4902285,Florencia,Caraño,Villa Raz,FRIJOL,19\\r\\n15/4/2019,MILLER GONZALES,4902285,Florencia,Caraño,Villa Raz,MAIZ,420\\r\\n16/5/2019,MILLER GONZALES,4902285,Florencia,Caraño,Villa Raz,MAIZ,110\\r\\n29/7/2019,MILLER GONZALES,4902285,Florencia,Caraño,Villa Raz,YUCA,147\\r\\n28/8/2019,MILLER GONZALES,4902285,Florencia,Caraño,Villa Raz,YUCA,213\\r\\n18/9/2019,MILLER GONZALES,4902285,Florencia,Caraño,Villa Raz,YUCA,97\\r\\n14/1/2019,NIXON PERDOMO,17646148,Florencia,Caraño,Sucre,FRIJOL,13\\r\\n16/1/2019,NIXON PERDOMO,17646148,Florencia,Caraño,Sucre,MAIZ,400\\r\\n25/2/2019,NIXON PERDOMO,17646148,Florencia,Caraño,Sucre,MAIZ,201\\r\\n25/2/2019,NIXON PERDOMO,17646148,Florencia,Caraño,Sucre,YUCA,390\\r\\n16/8/2019,NIXON PERDOMO,17646148,Florencia,Caraño,Sucre,YUCA,2810\\r\\n15/4/2019,SALOMON DIAZ,4960451,Florencia,Caraño,Villa Raz,FRIJOL,15\\r\\n15/4/2019,SALOMON DIAZ,4960451,Florencia,Caraño,Villa Raz,MAIZ,200\\r\\n14/5/2019,SALOMON DIAZ,4960451,Florencia,Caraño,Villa Raz,MAIZ,180\\r\\n15/1/2020,VICTORIA MENDOZA,40762739,Florencia,San Martín,La Turbia,PEPINO,2\\r\\n14/8/2019,SALOMON DIAZ,4960451,Florencia,Caraño,Villa Raz,YUCA,375\\r\\n21/11/2019,SALOMON DIAZ,4960451,Florencia,Caraño,Villa Raz,YUCA,603\\r\\n9/3/2019,TERESA CRUZ,40757827,Florencia,Caraño,Villa Raz,AHUYAMA,36\\r\\n9/3/2019,TERESA CRUZ,40757827,Florencia,Caraño,Villa Raz,FRIJOL,12\\r\\n13/4/2019,TERESA CRUZ,40757827,Florencia,Caraño,Villa Raz,MAIZ,160\\r\\n16/5/2019,TERESA CRUZ,40757827,Florencia,Caraño,Villa Raz,MAIZ,140\\r\\n9/4/2019,TERESA ORTEGA,26509813,Florencia,Caraño,Sucre,YUCA,\"70,5\"\\r\\n17/4/2019,TERESA ORTEGA,26509813,Florencia,Caraño,Sucre,MAIZ,70\\r\\n18/4/2019,TERESA ORTEGA,26509813,Florencia,Caraño,Sucre,FRIJOL,\"37,5\"\\r\\n25/5/2019,TERESA ORTEGA,26509813,Florencia,Caraño,Sucre,FRIJOL,25\\r\\n25/6/2019,TERESA ORTEGA,26509813,Florencia,Caraño,Sucre,AHUYAMA,\"150,43\"\\r\\n18/8/2019,YEMITH CAMACHO,17788776,Florencia,Caraño,Bajo Caldas,YUCA,378\\r\\n18/8/2019,YULIAN ESQUIVEL,1118026939,Florencia,Caraño,El Mirador,MAIZ,74\\r\\n18/8/2019,YULIAN ESQUIVEL,1118026939,Florencia,Caraño,El Mirador,YUCA,710\\r\\n20/1/2020,MILLER GONZALES,17650406,Florencia,Caraño,VILLARAZ,YUCA,121\\r\\n10/2/2020,MILLER GONZALES,17650407,Florencia,Caraño,VILLARAZ,YUCA,270\\r\\n10/2/2020,MILLER GONZALES,17650408,Florencia,Caraño,VILLARAZ,MAIZ,497\\r\\n10/2/2020,MILLER GONZALES,17650409,Florencia,Caraño,VILLARAZ,FRIJOL,92\\r\\n20/1/2020,SALOMON DIAZ,4960451,Florencia,Caraño,VILLARAZ,YUCA,62\\r\\n20/1/2020,SALOMON DIAZ,4960452,Florencia,Caraño,VILLARAZ,MAIZ,120\\r\\n20/1/2020,SALOMON DIAZ,4960453,Florencia,Caraño,VILLARAZ,FRIJOL,21\\r\\n10/2/2020,SALOMON DIAZ,4960454,Florencia,Caraño,VILLARAZ,YUCA,139\\r\\n10/2/2020,SALOMON DIAZ,4960455,Florencia,Caraño,VILLARAZ,MAIZ,531\\r\\n10/2/2020,SALOMON DIAZ,4960456,Florencia,Caraño,VILLARAZ,FRIJOL,110\\r\\n20/1/2020,ISIDORO PEREZ,10166156,Florencia,Caraño,VILLARAZ,YUCA,62\\r\\n20/1/2020,ISIDORO PEREZ,10166157,Florencia,Caraño,VILLARAZ,MAIZ,48\\r\\n10/2/2020,ISIDORO PEREZ,10166158,Florencia,Caraño,VILLARAZ,YUCA,31\\r\\n10/2/2020,ISIDORO PEREZ,10166159,Florencia,Caraño,VILLARAZ,MAIZ,527\\r\\n10/2/2020,ISIDORO PEREZ,10166160,Florencia,Caraño,VILLARAZ,FRIJOL,101\\r\\n20/1/2020,TERESA CRUZ DE LOZANO,40757827,Florencia,Caraño,VILLARAZ,MAIZ,29\\r\\n10/2/2020,TERESA CRUZ DE LOZANO,40757828,Florencia,Caraño,VILLARAZ,MAIZ,518\\r\\n10/2/2020,TERESA CRUZ DE LOZANO,40757829,Florencia,Caraño,VILLARAZ,FRIJOL,92\\r\\n18/2/2020,VICTORIA MENDOZA,40762739,Florencia,San Martín,La Turbia,PEPINO,\"1,5\"\\r\\n18/2/2020,TERESA ORTEGA,26509813,Florencia,Caraño,SUCRE,AHUYAMA,\"16,4\"\\r\\n20/2/2020,TERESA ORTEGA,26509813,Florencia,Caraño,SUCRE,SANDIA,\"10,3\"\\r\\n5/2/2019,EVERTH LOAIZA ARIAS,90329112,Florencia,Santo Domingo,Santander,PEPINO,\"14,9\"\\r\\n10/2/2020,IGNACIO ROJAS,6804627,Florencia,CABECERA MUNICIPAL,CABECERA MUNICIPAL,MAIZ,\"76,5\"\\r\\n15/2/2020,IGNACIO ROJAS,6804627,Florencia,CABECERA MUNICIPAL,CABECERA MUNICIPAL,AHUYAMA,\"0,5\"\\r\\n14/8/2019,NUBIA ORTIZ,41620406,Florencia,Agua Bonita,Caldas,YUCA,160\\r\\n17/8/2019,ANDRES MERCHAN,91210294,El Paujil,-,La Cristalina,YUCA,1117\\r\\n18/8/2019,CAMILO BONILLA,1116921355,El Paujil,-,Porvenir Estrella,YUCA,\"174,9\"\\r\\n12/3/2019,CEBERIANO DUARTE,96330985,El Paujil,-,El Mariposo,SANDIA,175\\r\\n5/4/2019,CEBERIANO DUARTE,96330985,El Paujil,-,El Mariposo,AHUYAMA,50\\r\\n5/4/2019,CEBERIANO DUARTE,96330985,El Paujil,-,El Mariposo,SANDIA,\"82,5\"\\r\\n11/5/2019,CEBERIANO DUARTE,96330985,El Paujil,-,El Mariposo,SANDIA,\"2,5\"\\r\\n15/5/2019,CEBERIANO DUARTE,96330985,El Paujil,-,El Mariposo,AHUYAMA,\"62,5\"\\r\\n15/5/2019,CEBERIANO DUARTE,96330985,El Paujil,-,El Mariposo,YUCA,\"31,15\"\\r\\n11/6/2019,CEBERIANO DUARTE,96330985,El Paujil,-,El Mariposo,AHUYAMA,\"62,5\"\\r\\n15/6/2019,CEBERIANO DUARTE,96330985,El Paujil,-,El Mariposo,YUCA,\"37,45\"\\r\\n15/7/2019,CEBERIANO DUARTE,96330985,El Paujil,-,El Mariposo,YUCA,\"54,5\"\\r\\n26/7/2019,CEBERIANO DUARTE,96330985,El Paujil,-,El Mariposo,AHUYAMA,50\\r\\n16/8/2019,DILSON ZAMBRANO,1118522029,El Paujil,-,La Primavera,YUCA,2400\\r\\n5/4/2019,ELIANA CASALLAS,1010212882,El Paujil,-,Congas,AHUYAMA,150\\r\\n15/7/2019,EVERTH LOAIZA ARIAS,90329112,Florencia,Santo Domingo,Santander,PEPINO,0\\r\\n5/4/2019,ELIANA CASALLAS,1010212882,El Paujil,-,Congas,SANDIA,334\\r\\n15/5/2019,ELIANA CASALLAS,1010212882,El Paujil,-,Congas,AHUYAMA,75\\r\\n3/3/2019,ALFONSO LOPEZ,96340376,Florencia,Santo Domingo,Santander II,PEPINO,13\\r\\n15/5/2019,ELIANA CASALLAS,1010212882,El Paujil,-,Congas,SANDIA,310\\r\\n15/5/2019,ELIANA CASALLAS,1010212882,El Paujil,-,Congas,YUCA,250\\r\\n11/6/2019,ELIANA CASALLAS,1010212882,El Paujil,-,Congas,AHUYAMA,\"162,55\"\\r\\n11/6/2019,ELIANA CASALLAS,1010212882,El Paujil,-,Congas,SANDIA,306\\r\\n13/6/2019,ELIANA CASALLAS,1010212882,El Paujil,-,Congas,YUCA,400\\r\\n26/7/2019,ELIANA CASALLAS,1010212882,El Paujil,-,Congas,YUCA,625\\r\\n27/7/2019,ELIANA CASALLAS,1010212882,El Paujil,-,Congas,AHUYAMA,\"112,5\"\\r\\n17/8/2019,ELIANA CASALLAS,1010212882,El Paujil,-,Congas,YUCA,36\\r\\n27/9/2019,ELIANA CASALLAS,1010212882,El Paujil,-,Congas,YUCA,\"141,5\"\\r\\n22/10/2019,ELIANA CASALLAS,1010212882,El Paujil,-,Congas,YUCA,317\\r\\n3/3/2019,YUDI MARCELA LOPEZ,1083870570,Florencia,Santo Domingo,Santander II,PEPINO,15\\r\\n12/4/2019,ESPERANZA ARANZALES,40758733,El Paujil,-,Guadualito,AHUYAMA,\"112,5\"\\r\\n20/1/2020,TERESA ORTEGA,26509813,Florencia,Caraño,Sucre,PEPINO,\"3,5\"\\r\\n12/4/2019,ESPERANZA ARANZALES,40758733,El Paujil,-,Guadualito,SANDIA,29\\r\\n15/5/2019,ESPERANZA ARANZALES,40758733,El Paujil,-,Guadualito,AHUYAMA,\"62,5\"\\r\\n20/2/2020,TERESA ORTEGA,26509813,Florencia,Caraño,Sucre,PEPINO,\"37,5\"\\r\\n15/5/2019,ESPERANZA ARANZALES,40758733,El Paujil,-,Guadualito,SANDIA,\"8,5\"\\r\\n17/6/2019,ESPERANZA ARANZALES,40758733,El Paujil,-,Guadualito,AHUYAMA,\"37,5\"\\r\\n18/8/2019,FLOR LOAIZA,40086000,El Paujil,-,Vergel,MAIZ,100\\r\\n18/8/2019,FLOR LOAIZA,40086000,El Paujil,-,Vergel,YUCA,68\\r\\n17/8/2019,GERMAN ECHEVERRY,17635508,El Paujil,-,Alto Guadualito,YUCA,4176\\r\\n30/7/2019,GONZALO GORDILLO,96329612,El Paujil,-,Los Alpes,YUCA,18\\r\\n16/8/2019,GONZALO GORDILLO,96329612,El Paujil,-,Los Alpes,YUCA,90\\r\\n19/7/2019,HERMES OLMOS,96328956,El Paujil,-,La Cristalina,YUCA,\"37,48\"\\r\\n16/8/2019,JHON ARCILA,96632402,El Paujil,-,Vegonia,YUCA,1117\\r\\n15/7/2019,JORGE GARCIA,7727182,El Paujil,-,La Arabia,YUCA,\"88,5\"\\r\\n17/8/2019,JORGE GARCIA,7727182,El Paujil,-,La Arabia,YUCA,\"893,1\"\\r\\n5/5/2019,LETICIA ARANZALES,30066405,El Paujil,-,Alto Guadualito,YUCA,\"93,6\"\\r\\n12/6/2019,LETICIA ARANZALES,30066405,El Paujil,-,Alto Guadualito,AHUYAMA,275\\r\\n12/6/2019,LETICIA ARANZALES,30066405,El Paujil,-,Alto Guadualito,YUCA,\"93,6\"\\r\\n20/7/2019,LETICIA ARANZALES,30066405,El Paujil,-,Alto Guadualito,AHUYAMA,225\\r\\n20/7/2019,LETICIA ARANZALES,30066405,El Paujil,-,Alto Guadualito,YUCA,\"71,9\"\\r\\n17/8/2019,LETICIA ARANZALES,30066405,El Paujil,-,Alto Guadualito,YUCA,945\\r\\n27/9/2019,LETICIA ARANZALES,30066405,El Paujil,-,Alto Guadualito,YUCA,\"34,5\"\\r\\n25/10/2019,LETICIA ARANZALES,30066405,El Paujil,-,Alto Guadualito,YUCA,75\\r\\n17/8/2019,NIEVES DUARTE,40086004,El Paujil,-,La Cristalina,YUCA,2988\\r\\n19/4/2019,LEIDY VARGAS,1115790327,Florencia,Caraño,Villa Raz,PEPINO,49\\r\\n8/4/2019,SABARAIN DUARTE,96329995,El Paujil,-,Guadualito,AHUYAMA,\"87,5\"\\r\\n14/5/2019,SALOMON DIAZ,4960451,Florencia,Caraño,Villa Raz,PEPINO,75\\r\\n8/4/2019,SABARAIN DUARTE,96329995,El Paujil,-,Guadualito,SANDIA,75\\r\\n17/5/2019,SABARAIN DUARTE,96329995,El Paujil,-,Guadualito,AHUYAMA,\"62,5\"\\r\\n17/5/2019,SABARAIN DUARTE,96329995,El Paujil,-,Guadualito,SANDIA,\"31,25\"\\r\\n6/6/2019,SABARAIN DUARTE,96329995,El Paujil,-,Guadualito,AHUYAMA,\"87,5\"\\r\\n6/6/2019,SABARAIN DUARTE,96329995,El Paujil,-,Guadualito,YUCA,625\\r\\n18/8/2019,SABARAIN DUARTE,96329995,El Paujil,-,Guadualito,YUCA,20\\r\\n23/10/2019,SABARAIN DUARTE ,96329995,El Paujil,-,Guadualito,YUCA,115\\r\\n20/1/2020,HERMES OLMOS,96328956,Florencia,-,Cristalina,MAIZ,200\\r\\n20/1/2020,HERMES OLMOS,96328956,Florencia,-,Cristalina,FRIJOL,\"0,1\"\\r\\n20/1/2020,HERMES OLMOS,96328956,Florencia,-,Cristalina,AHUYAMA,25\\r\\n20/1/2020,HERMES OLMOS,96328956,Florencia,-,Cristalina,SANDIA,19\\r\\n15/2/2020,HERMES OLMOS,96328956,Florencia,-,Cristalina,MAIZ,280\\r\\n15/2/2020,HERMES OLMOS,96328956,Florencia,-,Cristalina,AHUYAMA,40\\r\\n15/2/2020,HERMES OLMOS,96328956,Florencia,-,Cristalina,SANDIA,35\\r\\n20/1/2020,MARIA LETICIA ARANZALES,30066405,Florencia,-,Alto Guadualito,MAIZ,67\\r\\n20/1/2020,MARIA LETICIA ARANZALES,30066405,Florencia,-,Alto Guadualito,AHUYAMA,40\\r\\n20/1/2020,MARIA LETICIA ARANZALES,30066405,Florencia,-,Alto Guadualito,SANDIA,37\\r\\n15/2/2020,MARIA LETICIA ARANZALES,30066405,Florencia,-,Alto Guadualito,MAIZ,100\\r\\n15/2/2020,MARIA LETICIA ARANZALES,30066405,Florencia,-,Alto Guadualito,AHUYAMA,39\\r\\n15/2/2020,MARIA LETICIA ARANZALES,30066405,Florencia,-,Alto Guadualito,SANDIA,55\\r\\n20/1/2020,ESPERANZA ARANZALES,40758733,Florencia,-,Guadualito,MAIZ,100\\r\\n15/2/2020,ESPERANZA ARANZALES,40758733,Florencia,-,Guadualito,MAIZ,900\\r\\n20/1/2020,SABARAIN DUARTE,96329995,Florencia,-,Morabia,AHUYAMA,60\\r\\n15/2/2020,SABARAIN DUARTE,96329995,Florencia,-,Morabia,AHUYAMA,65\\r\\n15/2/2020,SABARAIN DUARTE,96329995,Florencia,-,Morabia,SANDIA,53\\r\\n12/2/2020,GONZALO GORDILLO,96329612,Florencia,-,Los Alpes,MAIZ,\"16,7\"\\r\\n12/2/2020,GONZALO GORDILLO,96329612,Florencia,-,Los Alpes,AHUYAMA,\"4,85\"\\r\\n12/2/2020,FLOR ALBA VILLARRIAGA,40362998,Florencia,-,Congas,MAIZ,\"76,4\"\\r\\n12/2/2020,FLOR ALBA VILLARRIAGA,40362998,Florencia,-,Congas,FRIJOL,\"12,4\"'"
            ]
          },
          "metadata": {
            "tags": []
          },
          "execution_count": 32
        }
      ]
    },
    {
      "cell_type": "code",
      "metadata": {
        "colab": {
          "base_uri": "https://localhost:8080/"
        },
        "id": "UMWn6_Z9MTNb",
        "outputId": "3a861030-0801-4f50-e248-8c309ff88114"
      },
      "source": [
        "agricola = pd.read_csv(io.StringIO(uploaded['Consolidado agrícola exp. a feb 2020.xlsx - Hoja1.csv'].decode('utf-8')))\n",
        "print(agricola.sample(10))"
      ],
      "execution_count": null,
      "outputs": [
        {
          "output_type": "stream",
          "text": [
            "         FECHA   NOMBREPARTICIPANTE  ...  ESPECIES     KG\n",
            "215  20/6/2019        MARICEL GOMEZ  ...      YUCA     24\n",
            "24   20/7/2019       RAFAEL CHILITO  ...      YUCA     17\n",
            "225  19/4/2019     VICTORIA MENDOZA  ...    PEPINO     15\n",
            "228  22/4/2019     VICTORIA MENDOZA  ...    PEPINO   10,5\n",
            "42   25/2/2020  JUDY MARCELA DUSSAN  ...    SANDIA   27,5\n",
            "159  11/3/2019   YUDI MARCELA LOPEZ  ...      YUCA    177\n",
            "297  20/1/2020         SALOMON DIAZ  ...    FRIJOL     21\n",
            "199  20/5/2019         GABRIEL CANO  ...      YUCA  94,23\n",
            "317  18/8/2019       CAMILO BONILLA  ...      YUCA  174,9\n",
            "377   6/6/2019      SABARAIN DUARTE  ...      YUCA    625\n",
            "\n",
            "[10 rows x 8 columns]\n"
          ],
          "name": "stdout"
        }
      ]
    },
    {
      "cell_type": "markdown",
      "metadata": {
        "id": "t7VwZTSpOxxZ"
      },
      "source": [
        "Importación de librerias necesarias para el desarrollo de modelos de aprendizaje automático:"
      ]
    },
    {
      "cell_type": "code",
      "metadata": {
        "id": "gS_y3NGXHn1g"
      },
      "source": [
        "import pandas as pd\n",
        "import numpy as np\n",
        "import seaborn as sns\n",
        "import matplotlib.pyplot as plt\n",
        "\n",
        "from pandas.plotting import scatter_matrix\n",
        "\n",
        "from scipy import stats\n",
        "from scipy.stats import skewtest, levene # NO FUNCIONA SI SE TIENE NA\n",
        "from sklearn.datasets import load_iris # grafica de violines\n",
        "from sklearn.impute import SimpleImputer# imputador para relleno de NaN\n",
        "from sklearn.model_selection import train_test_split # uso de datos de entranmiento\n",
        "from sklearn.model_selection import StratifiedShuffleSplit # division de datos de entranmiento cuando no se tiene relación entre los indices para x & y\n",
        "from sklearn.preprocessing import OrdinalEncoder # codificación de variables categóricas multiclase\n",
        "from sklearn.preprocessing import OneHotEncoder # codificación de variables categoricas binarias\n",
        "from sklearn.preprocessing import MinMaxScaler # escalado de caracteristicas o normalización\n",
        "from sklearn.preprocessing import StandardScaler # estandarización\n",
        "from sklearn.preprocessing import PolynomialFeatures # para hacer conversion de variable regresora\n",
        "                                                     # a exponencial, segun grado de polinomio\n",
        "from sklearn.linear_model import ElasticNet # redes elastícas combinanción de ridge & laso\n",
        "                                            # doble penalizaición de los pesos\n",
        "from sklearn.pipeline import Pipeline # <<<< permite realizar varios procesos en una sola linea\n",
        "\n",
        "''' ############ lIBRERIAS MODELADO ###############'''\n",
        "from sklearn.linear_model import ElasticNet\n",
        "from sklearn.linear_model import Ridge\n",
        "from sklearn.linear_model import Lasso\n",
        "from sklearn.linear_model import LinearRegression\n",
        "''' ##### VALIDACION CRUZADA ######'''\n",
        "from sklearn.model_selection import cross_val_score\n",
        "\n",
        "from sklearn import metrics #METRICAS MSE RMSE MAE R2\n",
        "import statsmodels.api as sm\n",
        "from statsmodels.formula.api import ols # ORDINAL LINE SQUARE\n",
        "\n",
        "from statsmodels.stats.multicomp import pairwise_tukeyhsd\n",
        "from statsmodels.stats.multicomp import MultiComparison"
      ],
      "execution_count": null,
      "outputs": []
    },
    {
      "cell_type": "code",
      "metadata": {
        "colab": {
          "base_uri": "https://localhost:8080/"
        },
        "id": "Bpwj90k4PM21",
        "outputId": "414fde4b-ae5a-4f91-f6b1-e5bda542b5b6"
      },
      "source": [
        "agricola = agricola.sort_values(by = 'FECHA')\n",
        "agricola.set_index('FECHA', inplace = True) #Importante Inplace para que realice cambios\n",
        "agricola.reset_index(inplace = True)\n",
        "\n",
        "agricola.KG.astype('floa')"
      ],
      "execution_count": null,
      "outputs": [
        {
          "output_type": "execute_result",
          "data": {
            "text/plain": [
              "0        50\n",
              "1       420\n",
              "2       446\n",
              "3       527\n",
              "4       101\n",
              "       ... \n",
              "397     143\n",
              "398      36\n",
              "399      12\n",
              "400    75,5\n",
              "401    70,5\n",
              "Name: KG, Length: 402, dtype: object"
            ]
          },
          "metadata": {
            "tags": []
          },
          "execution_count": 63
        }
      ]
    },
    {
      "cell_type": "code",
      "metadata": {
        "colab": {
          "base_uri": "https://localhost:8080/",
          "height": 452
        },
        "id": "KzQSepB4O91s",
        "outputId": "5bc9efdb-c9e4-41ee-9a61-d4e91111218a"
      },
      "source": [
        "\n",
        "yuca_modelo = yuca.groupby('TIEMPO', as_index = False).KG.mean()\n",
        "\n",
        "plt.scatter('TIEMPO', 'ACUMULADO', data = yuca)\n",
        "\n",
        "x_data, y_data = (yuca[\"TIEMPO\"].values, yuca[\"ACUMULADO\"].values)\n",
        "\n",
        "# construcción del modelo, función sigmoide\n",
        "def sigmoid(x, Beta_1, Beta_2):\n",
        "     y = 1 / (1 + np.exp(-Beta_1*(x-Beta_2)))\n",
        "     return y\n",
        "\n",
        "beta_1 = 7773.753929 # calculados\n",
        "beta_2 = 0.990332\n",
        "\n",
        "#logistica\n",
        "Y_pred = sigmoid(x_data, beta_1 , beta_2)\n",
        "\n",
        "#plot predicción inicial\n",
        "plt.plot(x_data, Y_pred*50000)\n",
        "plt.plot(x_data, y_data, 'ro')\n",
        "\n",
        "# normalicemos los datos\n",
        "xdata =x_data/max(x_data)\n",
        "ydata =y_data/max(y_data)\n",
        "\n",
        "from scipy.optimize import curve_fit\n",
        "\n",
        "'''modelo exponencial sigmoide'''\n",
        "\n",
        "popt, pcov = curve_fit(sigmoid, xdata, ydata) # popt: parametros, pcov: covarianza\n",
        "#imprimamos los parámetros\n",
        "print(\" beta_1 = %f, beta_2 = %f\" % (popt[0], popt[1])) \n",
        "print(pcov)\n",
        "\n",
        "# Visualización del modelo\n",
        "x = np.linspace(1547510400.0, 1581292800.0, 259200)\n",
        "x = x/max(x)\n",
        "plt.figure(figsize=(8,5))\n",
        "y = sigmoid(x, *popt) # modficados manualmente\n",
        "plt.plot(xdata, ydata, 'ro', label='Datos')\n",
        "plt.plot(x,y, linewidth=3.0, label='Ajuste')\n",
        "plt.legend(loc='best')\n",
        "plt.ylabel('Producción Acumulada')\n",
        "plt.xlabel('Tiempo')\n",
        "plt.show()\n"
      ],
      "execution_count": null,
      "outputs": [
        {
          "output_type": "stream",
          "text": [
            "/usr/local/lib/python3.7/dist-packages/ipykernel_launcher.py:8: SettingWithCopyWarning: \n",
            "A value is trying to be set on a copy of a slice from a DataFrame.\n",
            "Try using .loc[row_indexer,col_indexer] = value instead\n",
            "\n",
            "See the caveats in the documentation: https://pandas.pydata.org/pandas-docs/stable/user_guide/indexing.html#returning-a-view-versus-a-copy\n",
            "  \n"
          ],
          "name": "stderr"
        },
        {
          "output_type": "error",
          "ename": "AttributeError",
          "evalue": "ignored",
          "traceback": [
            "\u001b[0;31m---------------------------------------------------------------------------\u001b[0m",
            "\u001b[0;31mAttributeError\u001b[0m                            Traceback (most recent call last)",
            "\u001b[0;32m<ipython-input-39-03fd7ee445a1>\u001b[0m in \u001b[0;36m<module>\u001b[0;34m()\u001b[0m\n\u001b[1;32m      8\u001b[0m \u001b[0myuca\u001b[0m\u001b[0;34m[\u001b[0m\u001b[0;34m'ACUMULADO'\u001b[0m\u001b[0;34m]\u001b[0m \u001b[0;34m=\u001b[0m \u001b[0myuca\u001b[0m\u001b[0;34m.\u001b[0m\u001b[0mKG\u001b[0m\u001b[0;34m.\u001b[0m\u001b[0mcumsum\u001b[0m\u001b[0;34m(\u001b[0m\u001b[0;34m)\u001b[0m\u001b[0;34m\u001b[0m\u001b[0;34m\u001b[0m\u001b[0m\n\u001b[1;32m      9\u001b[0m \u001b[0;34m\u001b[0m\u001b[0m\n\u001b[0;32m---> 10\u001b[0;31m \u001b[0myuca\u001b[0m\u001b[0;34m[\u001b[0m\u001b[0;34m'TIEMPO'\u001b[0m\u001b[0;34m]\u001b[0m \u001b[0;34m=\u001b[0m \u001b[0;34m[\u001b[0m\u001b[0mi\u001b[0m\u001b[0;34m.\u001b[0m\u001b[0mtimestamp\u001b[0m\u001b[0;34m(\u001b[0m\u001b[0;34m)\u001b[0m \u001b[0;32mfor\u001b[0m \u001b[0mi\u001b[0m \u001b[0;32min\u001b[0m \u001b[0myuca\u001b[0m\u001b[0;34m.\u001b[0m\u001b[0mFECHA\u001b[0m\u001b[0;34m]\u001b[0m\u001b[0;34m\u001b[0m\u001b[0;34m\u001b[0m\u001b[0m\n\u001b[0m\u001b[1;32m     11\u001b[0m \u001b[0;34m\u001b[0m\u001b[0m\n\u001b[1;32m     12\u001b[0m \u001b[0myuca_modelo\u001b[0m \u001b[0;34m=\u001b[0m \u001b[0myuca\u001b[0m\u001b[0;34m.\u001b[0m\u001b[0mgroupby\u001b[0m\u001b[0;34m(\u001b[0m\u001b[0;34m'TIEMPO'\u001b[0m\u001b[0;34m,\u001b[0m \u001b[0mas_index\u001b[0m \u001b[0;34m=\u001b[0m \u001b[0;32mFalse\u001b[0m\u001b[0;34m)\u001b[0m\u001b[0;34m.\u001b[0m\u001b[0mKG\u001b[0m\u001b[0;34m.\u001b[0m\u001b[0mmean\u001b[0m\u001b[0;34m(\u001b[0m\u001b[0;34m)\u001b[0m\u001b[0;34m\u001b[0m\u001b[0;34m\u001b[0m\u001b[0m\n",
            "\u001b[0;32m<ipython-input-39-03fd7ee445a1>\u001b[0m in \u001b[0;36m<listcomp>\u001b[0;34m(.0)\u001b[0m\n\u001b[1;32m      8\u001b[0m \u001b[0myuca\u001b[0m\u001b[0;34m[\u001b[0m\u001b[0;34m'ACUMULADO'\u001b[0m\u001b[0;34m]\u001b[0m \u001b[0;34m=\u001b[0m \u001b[0myuca\u001b[0m\u001b[0;34m.\u001b[0m\u001b[0mKG\u001b[0m\u001b[0;34m.\u001b[0m\u001b[0mcumsum\u001b[0m\u001b[0;34m(\u001b[0m\u001b[0;34m)\u001b[0m\u001b[0;34m\u001b[0m\u001b[0;34m\u001b[0m\u001b[0m\n\u001b[1;32m      9\u001b[0m \u001b[0;34m\u001b[0m\u001b[0m\n\u001b[0;32m---> 10\u001b[0;31m \u001b[0myuca\u001b[0m\u001b[0;34m[\u001b[0m\u001b[0;34m'TIEMPO'\u001b[0m\u001b[0;34m]\u001b[0m \u001b[0;34m=\u001b[0m \u001b[0;34m[\u001b[0m\u001b[0mi\u001b[0m\u001b[0;34m.\u001b[0m\u001b[0mtimestamp\u001b[0m\u001b[0;34m(\u001b[0m\u001b[0;34m)\u001b[0m \u001b[0;32mfor\u001b[0m \u001b[0mi\u001b[0m \u001b[0;32min\u001b[0m \u001b[0myuca\u001b[0m\u001b[0;34m.\u001b[0m\u001b[0mFECHA\u001b[0m\u001b[0;34m]\u001b[0m\u001b[0;34m\u001b[0m\u001b[0;34m\u001b[0m\u001b[0m\n\u001b[0m\u001b[1;32m     11\u001b[0m \u001b[0;34m\u001b[0m\u001b[0m\n\u001b[1;32m     12\u001b[0m \u001b[0myuca_modelo\u001b[0m \u001b[0;34m=\u001b[0m \u001b[0myuca\u001b[0m\u001b[0;34m.\u001b[0m\u001b[0mgroupby\u001b[0m\u001b[0;34m(\u001b[0m\u001b[0;34m'TIEMPO'\u001b[0m\u001b[0;34m,\u001b[0m \u001b[0mas_index\u001b[0m \u001b[0;34m=\u001b[0m \u001b[0;32mFalse\u001b[0m\u001b[0;34m)\u001b[0m\u001b[0;34m.\u001b[0m\u001b[0mKG\u001b[0m\u001b[0;34m.\u001b[0m\u001b[0mmean\u001b[0m\u001b[0;34m(\u001b[0m\u001b[0;34m)\u001b[0m\u001b[0;34m\u001b[0m\u001b[0;34m\u001b[0m\u001b[0m\n",
            "\u001b[0;31mAttributeError\u001b[0m: 'str' object has no attribute 'timestamp'"
          ]
        }
      ]
    },
    {
      "cell_type": "markdown",
      "metadata": {
        "id": "OLCo1aM7G2wt"
      },
      "source": [
        "<p><a name=\"pythonIntro\"></a></p>\n",
        "\n",
        "# 2) Introducción a Python\n",
        "\n",
        "[[Contenidos]](#contents)\n",
        "\n",
        "El objetivo de la presente sección es el de suministrar al lector una breve introducción al lenguaje Python, y ayudar a los principiantes a familiarizarse con dicho lenguaje."
      ]
    }
  ]
}